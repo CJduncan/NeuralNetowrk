{
  "cells": [
    {
      "cell_type": "markdown",
      "metadata": {
        "id": "view-in-github",
        "colab_type": "text"
      },
      "source": [
        "<a href=\"https://colab.research.google.com/github/CJduncan/NeuralNetowrk/blob/main/Final_CS345_Final_Project_Duncan.ipynb\" target=\"_parent\"><img src=\"https://colab.research.google.com/assets/colab-badge.svg\" alt=\"Open In Colab\"/></a>"
      ]
    },
    {
      "cell_type": "markdown",
      "metadata": {
        "id": "SCuhYNBvgYy-"
      },
      "source": [
        "# Introduction\n",
        "\n",
        "This notebook implements a computer vision-based hand gesture recognition system using webcam input. The system utilizes MediaPipe for hand landmark detection and a neural network for gesture classification.\n",
        "\n",
        "## Project Overview\n",
        "The system consists of three main components:\n",
        "1. Hand detection and tracking using MediaPipe\n",
        "2. Gesture recognition using a custom neural network\n",
        "3. Real-time gesture classification\n",
        "\n",
        "## Dataset Description\n",
        "The system collects hand gesture data using MediaPipe's hand landmark detection:\n",
        "* 21 3D landmarks per hand (63 features total)\n",
        "* 3 gesture classes: Move, Click, Scroll\n",
        "* 50 samples per gesture class\n",
        "\n",
        "## Important Note\n",
        "Due to Google Colab's environment, webcam captures may experience occasional visual glitches. During gesture collection:\n",
        "* Collection completes after recording 50 samples per gesture\n",
        "* Visual feedback may appear unstable after collection\n",
        "* Continue to next cell after sample collection completes\n",
        "* System remains functional despite visual artifacts"
      ]
    },
    {
      "cell_type": "code",
      "source": [],
      "metadata": {
        "id": "w5FYSfz84Xkb"
      },
      "execution_count": null,
      "outputs": []
    },
    {
      "cell_type": "markdown",
      "metadata": {
        "id": "_bdicEkZg2LZ"
      },
      "source": [
        "#1. Installing packages\n"
      ]
    },
    {
      "cell_type": "code",
      "execution_count": null,
      "metadata": {
        "id": "0uJWcYwRgYhI",
        "colab": {
          "base_uri": "https://localhost:8080/"
        },
        "outputId": "fba84769-9d48-4315-8751-b9b15e9a1356"
      },
      "outputs": [
        {
          "output_type": "stream",
          "name": "stdout",
          "text": [
            "Collecting mediapipe\n",
            "  Downloading mediapipe-0.10.18-cp310-cp310-manylinux_2_17_x86_64.manylinux2014_x86_64.whl.metadata (9.7 kB)\n",
            "Requirement already satisfied: opencv-python in /usr/local/lib/python3.10/dist-packages (4.10.0.84)\n",
            "Requirement already satisfied: absl-py in /usr/local/lib/python3.10/dist-packages (from mediapipe) (1.4.0)\n",
            "Requirement already satisfied: attrs>=19.1.0 in /usr/local/lib/python3.10/dist-packages (from mediapipe) (24.2.0)\n",
            "Requirement already satisfied: flatbuffers>=2.0 in /usr/local/lib/python3.10/dist-packages (from mediapipe) (24.3.25)\n",
            "Requirement already satisfied: jax in /usr/local/lib/python3.10/dist-packages (from mediapipe) (0.4.33)\n",
            "Requirement already satisfied: jaxlib in /usr/local/lib/python3.10/dist-packages (from mediapipe) (0.4.33)\n",
            "Requirement already satisfied: matplotlib in /usr/local/lib/python3.10/dist-packages (from mediapipe) (3.8.0)\n",
            "Requirement already satisfied: numpy<2 in /usr/local/lib/python3.10/dist-packages (from mediapipe) (1.26.4)\n",
            "Requirement already satisfied: opencv-contrib-python in /usr/local/lib/python3.10/dist-packages (from mediapipe) (4.10.0.84)\n",
            "Requirement already satisfied: protobuf<5,>=4.25.3 in /usr/local/lib/python3.10/dist-packages (from mediapipe) (4.25.5)\n",
            "Collecting sounddevice>=0.4.4 (from mediapipe)\n",
            "  Downloading sounddevice-0.5.1-py3-none-any.whl.metadata (1.4 kB)\n",
            "Requirement already satisfied: sentencepiece in /usr/local/lib/python3.10/dist-packages (from mediapipe) (0.2.0)\n",
            "Requirement already satisfied: CFFI>=1.0 in /usr/local/lib/python3.10/dist-packages (from sounddevice>=0.4.4->mediapipe) (1.17.1)\n",
            "Requirement already satisfied: ml-dtypes>=0.2.0 in /usr/local/lib/python3.10/dist-packages (from jax->mediapipe) (0.4.1)\n",
            "Requirement already satisfied: opt-einsum in /usr/local/lib/python3.10/dist-packages (from jax->mediapipe) (3.4.0)\n",
            "Requirement already satisfied: scipy>=1.10 in /usr/local/lib/python3.10/dist-packages (from jax->mediapipe) (1.13.1)\n",
            "Requirement already satisfied: contourpy>=1.0.1 in /usr/local/lib/python3.10/dist-packages (from matplotlib->mediapipe) (1.3.1)\n",
            "Requirement already satisfied: cycler>=0.10 in /usr/local/lib/python3.10/dist-packages (from matplotlib->mediapipe) (0.12.1)\n",
            "Requirement already satisfied: fonttools>=4.22.0 in /usr/local/lib/python3.10/dist-packages (from matplotlib->mediapipe) (4.55.1)\n",
            "Requirement already satisfied: kiwisolver>=1.0.1 in /usr/local/lib/python3.10/dist-packages (from matplotlib->mediapipe) (1.4.7)\n",
            "Requirement already satisfied: packaging>=20.0 in /usr/local/lib/python3.10/dist-packages (from matplotlib->mediapipe) (24.2)\n",
            "Requirement already satisfied: pillow>=6.2.0 in /usr/local/lib/python3.10/dist-packages (from matplotlib->mediapipe) (11.0.0)\n",
            "Requirement already satisfied: pyparsing>=2.3.1 in /usr/local/lib/python3.10/dist-packages (from matplotlib->mediapipe) (3.2.0)\n",
            "Requirement already satisfied: python-dateutil>=2.7 in /usr/local/lib/python3.10/dist-packages (from matplotlib->mediapipe) (2.8.2)\n",
            "Requirement already satisfied: pycparser in /usr/local/lib/python3.10/dist-packages (from CFFI>=1.0->sounddevice>=0.4.4->mediapipe) (2.22)\n",
            "Requirement already satisfied: six>=1.5 in /usr/local/lib/python3.10/dist-packages (from python-dateutil>=2.7->matplotlib->mediapipe) (1.16.0)\n",
            "Downloading mediapipe-0.10.18-cp310-cp310-manylinux_2_17_x86_64.manylinux2014_x86_64.whl (36.1 MB)\n",
            "\u001b[2K   \u001b[90m━━━━━━━━━━━━━━━━━━━━━━━━━━━━━━━━━━━━━━━━\u001b[0m \u001b[32m36.1/36.1 MB\u001b[0m \u001b[31m27.8 MB/s\u001b[0m eta \u001b[36m0:00:00\u001b[0m\n",
            "\u001b[?25hDownloading sounddevice-0.5.1-py3-none-any.whl (32 kB)\n",
            "Installing collected packages: sounddevice, mediapipe\n",
            "Successfully installed mediapipe-0.10.18 sounddevice-0.5.1\n"
          ]
        }
      ],
      "source": [
        "!pip install mediapipe opencv-python"
      ]
    },
    {
      "cell_type": "markdown",
      "metadata": {
        "id": "mMcHJStdg76R"
      },
      "source": [
        "#2. Imports\n"
      ]
    },
    {
      "cell_type": "code",
      "execution_count": null,
      "metadata": {
        "id": "smMXnkybg_uZ"
      },
      "outputs": [],
      "source": [
        "import cv2\n",
        "import mediapipe as mp\n",
        "from IPython.display import display, Javascript, HTML\n",
        "from google.colab.output import eval_js\n",
        "import numpy as np\n",
        "from base64 import b64decode, b64encode\n",
        "import PIL\n",
        "import io\n",
        "import pandas as pd\n",
        "import matplotlib.pyplot as plt\n",
        "import seaborn as sns\n",
        "from sklearn.model_selection import train_test_split\n",
        "from sklearn.preprocessing import StandardScaler\n",
        "from sklearn.metrics import confusion_matrix, classification_report\n",
        "import tensorflow as tf\n",
        "from tensorflow.keras.models import Sequential\n",
        "from tensorflow.keras.layers import Dense, Dropout\n",
        "from tensorflow.keras.optimizers import Adam\n",
        "import time\n",
        "import pickle\n",
        "from IPython.display import clear_output"
      ]
    },
    {
      "cell_type": "markdown",
      "metadata": {
        "id": "60Arnq5AhB89"
      },
      "source": [
        "#3. Webcam setup\n",
        "### Custom JavaScript implementation to handle webcam functionality in Colab, as it doesn't support direct webcam access. Includes frame capture and display methods"
      ]
    },
    {
      "cell_type": "code",
      "execution_count": null,
      "metadata": {
        "id": "IciHL1c3hBc3"
      },
      "outputs": [],
      "source": [
        "\n",
        "def js_to_image(js_reply):\n",
        "    \"\"\"Convert JS response to OpenCV image\"\"\"\n",
        "    image_bytes = b64decode(js_reply.split(',')[1])\n",
        "    image = PIL.Image.open(io.BytesIO(image_bytes))\n",
        "    return cv2.cvtColor(np.array(image), cv2.COLOR_RGB2BGR)\n",
        "\n",
        "def start_webcam():\n",
        "    js = Javascript('''\n",
        "        var video;\n",
        "        var div = null;\n",
        "        var stream;\n",
        "        var captureCanvas;\n",
        "        var imgElement;\n",
        "        var labelElement;\n",
        "\n",
        "        var pendingResolve = null;\n",
        "        var shutdown = false;\n",
        "\n",
        "        function removeDom() {\n",
        "            stream.getVideoTracks()[0].stop();\n",
        "            video.remove();\n",
        "            div.remove();\n",
        "            video = null;\n",
        "            div = null;\n",
        "            stream = null;\n",
        "            imgElement = null;\n",
        "            captureCanvas = null;\n",
        "            labelElement = null;\n",
        "        }\n",
        "\n",
        "        async function createDom() {\n",
        "            if (div !== null) {\n",
        "                return stream;\n",
        "            }\n",
        "\n",
        "            div = document.createElement('div');\n",
        "            div.style.border = '2px solid black';\n",
        "            div.style.padding = '3px';\n",
        "            div.style.width = '100%';\n",
        "            div.style.maxWidth = '600px';\n",
        "            document.body.appendChild(div);\n",
        "\n",
        "            video = document.createElement('video');\n",
        "            video.style.display = 'block';\n",
        "            video.width = div.clientWidth - 6;\n",
        "            video.setAttribute('playsinline', '');\n",
        "            video.setAttribute('autoplay', '');\n",
        "            video.setAttribute('muted', '');\n",
        "            video.style.width = div.clientWidth - 6 + 'px';\n",
        "\n",
        "            imgElement = document.createElement('img');\n",
        "            imgElement.style.position = 'absolute';\n",
        "            imgElement.style.zIndex = 1;\n",
        "\n",
        "            const modelOut = document.createElement('div');\n",
        "            modelOut.innerHTML = \"<span>Status:</span>\";\n",
        "            labelElement = document.createElement('span');\n",
        "            labelElement.innerText = 'No data';\n",
        "            modelOut.appendChild(labelElement);\n",
        "\n",
        "            div.appendChild(video);\n",
        "            div.appendChild(imgElement);\n",
        "            div.appendChild(modelOut);\n",
        "\n",
        "            stream = await navigator.mediaDevices.getUserMedia({\n",
        "                video: {\n",
        "                    facingMode: \"environment\",\n",
        "                    frameRate: { ideal: 30 },\n",
        "                }\n",
        "            });\n",
        "            video.srcObject = stream;\n",
        "            await video.play();\n",
        "\n",
        "            captureCanvas = document.createElement('canvas');\n",
        "            captureCanvas.width = video.videoWidth || 640;\n",
        "            captureCanvas.height = video.videoHeight || 480;\n",
        "\n",
        "            return stream;\n",
        "        }\n",
        "\n",
        "        async function stream_frame(label, imgData) {\n",
        "            if (shutdown) {\n",
        "                removeDom();\n",
        "                shutdown = false;\n",
        "                return '';\n",
        "            }\n",
        "\n",
        "            stream = await createDom();\n",
        "\n",
        "            if (label != \"\") {\n",
        "                labelElement.innerHTML = label;\n",
        "            }\n",
        "\n",
        "            if (imgData != \"\") {\n",
        "                var videoRect = video.getBoundingClientRect();\n",
        "                imgElement.style.top = videoRect.top + \"px\";\n",
        "                imgElement.style.left = videoRect.left + \"px\";\n",
        "                imgElement.style.width = videoRect.width + \"px\";\n",
        "                imgElement.style.height = videoRect.height + \"px\";\n",
        "                imgElement.src = imgData;\n",
        "            }\n",
        "\n",
        "            return new Promise(function(resolve) {\n",
        "                captureCanvas.getContext('2d').drawImage(video, 0, 0, captureCanvas.width, captureCanvas.height);\n",
        "                resolve(captureCanvas.toDataURL('image/jpeg', 0.8));\n",
        "            });\n",
        "        }\n",
        "        ''')\n",
        "    display(js)"
      ]
    },
    {
      "cell_type": "markdown",
      "metadata": {
        "id": "o5i9XmO5hHeD"
      },
      "source": [
        "#4. Data Collection\n",
        "\n",
        "### Implementation of gesture data collection using MediaPipe's hand landmark detection. Captures 50 samples each for three gestures (move, click, scroll), storing 3D coordinates of 21 hand landmarks"
      ]
    },
    {
      "cell_type": "code",
      "execution_count": null,
      "metadata": {
        "id": "4gDaZDCShMIr"
      },
      "outputs": [],
      "source": [
        "def collect_gesture_data(gesture_name, num_samples=50):\n",
        "    \"\"\"Collect hand landmark data for a specific gesture\"\"\"\n",
        "    data = []\n",
        "    mp_hands = mp.solutions.hands\n",
        "    hands = mp_hands.Hands(min_detection_confidence=0.7, min_tracking_confidence=0.7)\n",
        "\n",
        "    print(f\"Collecting data for '{gesture_name}' gesture...\")\n",
        "    print(\"Position your hand and perform the gesture continuously.\")\n",
        "    print(\"Data collection will start in 3 seconds...\")\n",
        "\n",
        "    time.sleep(3)\n",
        "\n",
        "    start_webcam()\n",
        "    samples_collected = 0\n",
        "\n",
        "    try:\n",
        "        while samples_collected < num_samples:\n",
        "            js_reply = eval_js('stream_frame(\"\", \"\")')\n",
        "            if not js_reply:\n",
        "                break\n",
        "\n",
        "\n",
        "            if isinstance(js_reply, str) and js_reply.startswith('data:image'):\n",
        "                frame = js_to_image(js_reply)\n",
        "            else:\n",
        "                continue\n",
        "\n",
        "            frame_rgb = cv2.cvtColor(frame, cv2.COLOR_BGR2RGB)\n",
        "            results = hands.process(frame_rgb)\n",
        "\n",
        "            if results.multi_hand_landmarks:\n",
        "                landmarks = results.multi_hand_landmarks[0]\n",
        "\n",
        "\n",
        "                mp.solutions.drawing_utils.draw_landmarks(\n",
        "                    frame, landmarks, mp_hands.HAND_CONNECTIONS)\n",
        "\n",
        "                coords = [[lm.x, lm.y, lm.z] for lm in landmarks.landmark]\n",
        "                features = np.array(coords).flatten()\n",
        "                data.append(features)\n",
        "                samples_collected += 1\n",
        "\n",
        "                status = f\"Collecting {gesture_name}: {samples_collected}/{num_samples}\"\n",
        "            else:\n",
        "                status = \"No hand detected\"\n",
        "\n",
        "            _, jpeg = cv2.imencode('.jpg', frame)\n",
        "            eval_js(f'stream_frame(\"{status}\", \"data:image/jpeg;base64,{b64encode(jpeg).decode()}\")')\n",
        "\n",
        "    finally:\n",
        "        eval_js('shutdown = true')\n",
        "        time.sleep(1)\n",
        "\n",
        "    return np.array(data)"
      ]
    },
    {
      "cell_type": "markdown",
      "metadata": {
        "id": "UCKE4fEphOAj"
      },
      "source": [
        "#5. Collect Dataset\n",
        "info: if you get any errors during the gesture collection, as long as it records all 50, you should be fine. Once you get to step 5.4 and run it you should be able to see your data. So dont stree until all steps up to 5.4 have been ran."
      ]
    },
    {
      "cell_type": "markdown",
      "metadata": {
        "id": "uZBIy2SKjyJN"
      },
      "source": [
        "##5.1 collect move gesture"
      ]
    },
    {
      "cell_type": "code",
      "execution_count": null,
      "metadata": {
        "colab": {
          "base_uri": "https://localhost:8080/",
          "height": 637
        },
        "id": "aXamB4gbj347",
        "outputId": "693e7fee-b166-4ab9-fbf6-d0a7205d88c9"
      },
      "outputs": [
        {
          "output_type": "stream",
          "name": "stdout",
          "text": [
            "Preparing to collect 'move' gesture...\n",
            "Move your hand around in space\n",
            "Press Enter when ready to start...\n",
            "\n",
            "Collecting data for 'move' gesture...\n",
            "Position your hand and perform the gesture continuously.\n",
            "Data collection will start in 3 seconds...\n"
          ]
        },
        {
          "output_type": "display_data",
          "data": {
            "text/plain": [
              "<IPython.core.display.Javascript object>"
            ],
            "application/javascript": [
              "\n",
              "        var video;\n",
              "        var div = null;\n",
              "        var stream;\n",
              "        var captureCanvas;\n",
              "        var imgElement;\n",
              "        var labelElement;\n",
              "\n",
              "        var pendingResolve = null;\n",
              "        var shutdown = false;\n",
              "\n",
              "        function removeDom() {\n",
              "            stream.getVideoTracks()[0].stop();\n",
              "            video.remove();\n",
              "            div.remove();\n",
              "            video = null;\n",
              "            div = null;\n",
              "            stream = null;\n",
              "            imgElement = null;\n",
              "            captureCanvas = null;\n",
              "            labelElement = null;\n",
              "        }\n",
              "\n",
              "        async function createDom() {\n",
              "            if (div !== null) {\n",
              "                return stream;\n",
              "            }\n",
              "\n",
              "            div = document.createElement('div');\n",
              "            div.style.border = '2px solid black';\n",
              "            div.style.padding = '3px';\n",
              "            div.style.width = '100%';\n",
              "            div.style.maxWidth = '600px';\n",
              "            document.body.appendChild(div);\n",
              "\n",
              "            video = document.createElement('video');\n",
              "            video.style.display = 'block';\n",
              "            video.width = div.clientWidth - 6;\n",
              "            video.setAttribute('playsinline', '');\n",
              "            video.setAttribute('autoplay', '');\n",
              "            video.setAttribute('muted', '');\n",
              "            video.style.width = div.clientWidth - 6 + 'px';\n",
              "\n",
              "            imgElement = document.createElement('img');\n",
              "            imgElement.style.position = 'absolute';\n",
              "            imgElement.style.zIndex = 1;\n",
              "\n",
              "            const modelOut = document.createElement('div');\n",
              "            modelOut.innerHTML = \"<span>Status:</span>\";\n",
              "            labelElement = document.createElement('span');\n",
              "            labelElement.innerText = 'No data';\n",
              "            modelOut.appendChild(labelElement);\n",
              "\n",
              "            div.appendChild(video);\n",
              "            div.appendChild(imgElement);\n",
              "            div.appendChild(modelOut);\n",
              "\n",
              "            stream = await navigator.mediaDevices.getUserMedia({\n",
              "                video: {\n",
              "                    facingMode: \"environment\",\n",
              "                    frameRate: { ideal: 30 },\n",
              "                }\n",
              "            });\n",
              "            video.srcObject = stream;\n",
              "            await video.play();\n",
              "\n",
              "            captureCanvas = document.createElement('canvas');\n",
              "            captureCanvas.width = video.videoWidth || 640;\n",
              "            captureCanvas.height = video.videoHeight || 480;\n",
              "\n",
              "            return stream;\n",
              "        }\n",
              "\n",
              "        async function stream_frame(label, imgData) {\n",
              "            if (shutdown) {\n",
              "                removeDom();\n",
              "                shutdown = false;\n",
              "                return '';\n",
              "            }\n",
              "\n",
              "            stream = await createDom();\n",
              "\n",
              "            if (label != \"\") {\n",
              "                labelElement.innerHTML = label;\n",
              "            }\n",
              "\n",
              "            if (imgData != \"\") {\n",
              "                var videoRect = video.getBoundingClientRect();\n",
              "                imgElement.style.top = videoRect.top + \"px\";\n",
              "                imgElement.style.left = videoRect.left + \"px\";\n",
              "                imgElement.style.width = videoRect.width + \"px\";\n",
              "                imgElement.style.height = videoRect.height + \"px\";\n",
              "                imgElement.src = imgData;\n",
              "            }\n",
              "\n",
              "            return new Promise(function(resolve) {\n",
              "                captureCanvas.getContext('2d').drawImage(video, 0, 0, captureCanvas.width, captureCanvas.height);\n",
              "                resolve(captureCanvas.toDataURL('image/jpeg', 0.8));\n",
              "            });\n",
              "        }\n",
              "        "
            ]
          },
          "metadata": {}
        },
        {
          "output_type": "stream",
          "name": "stdout",
          "text": [
            "Collected 50 samples for move gesture\n"
          ]
        }
      ],
      "source": [
        "\n",
        "print(\"Preparing to collect 'move' gesture...\")\n",
        "print(\"Move your hand around in space\")\n",
        "print(\"Press Enter when ready to start...\")\n",
        "input()\n",
        "\n",
        "dataset = {}\n",
        "dataset['move'] = collect_gesture_data('move', num_samples=50)\n",
        "print(f\"Collected {len(dataset['move'])} samples for move gesture\")\n",
        "\n",
        "# Force cleanup\n",
        "eval_js('shutdown = true')\n",
        "time.sleep(2)\n",
        "clear_output(wait=True)"
      ]
    },
    {
      "cell_type": "markdown",
      "metadata": {
        "id": "THi3MgD-j3kJ"
      },
      "source": [
        "##5.2 Collect Click Gesture"
      ]
    },
    {
      "cell_type": "code",
      "execution_count": null,
      "metadata": {
        "id": "i_EKi8eLj9yo",
        "colab": {
          "base_uri": "https://localhost:8080/",
          "height": 637
        },
        "outputId": "f3e26ee8-cfaa-4cda-94aa-3b304d9a144a"
      },
      "outputs": [
        {
          "output_type": "stream",
          "name": "stdout",
          "text": [
            "Preparing to collect 'click' gesture...\n",
            "Make a clicking motion with your index finger\n",
            "Press Enter when ready to start...\n",
            "\n",
            "Collecting data for 'click' gesture...\n",
            "Position your hand and perform the gesture continuously.\n",
            "Data collection will start in 3 seconds...\n"
          ]
        },
        {
          "output_type": "display_data",
          "data": {
            "text/plain": [
              "<IPython.core.display.Javascript object>"
            ],
            "application/javascript": [
              "\n",
              "        var video;\n",
              "        var div = null;\n",
              "        var stream;\n",
              "        var captureCanvas;\n",
              "        var imgElement;\n",
              "        var labelElement;\n",
              "\n",
              "        var pendingResolve = null;\n",
              "        var shutdown = false;\n",
              "\n",
              "        function removeDom() {\n",
              "            stream.getVideoTracks()[0].stop();\n",
              "            video.remove();\n",
              "            div.remove();\n",
              "            video = null;\n",
              "            div = null;\n",
              "            stream = null;\n",
              "            imgElement = null;\n",
              "            captureCanvas = null;\n",
              "            labelElement = null;\n",
              "        }\n",
              "\n",
              "        async function createDom() {\n",
              "            if (div !== null) {\n",
              "                return stream;\n",
              "            }\n",
              "\n",
              "            div = document.createElement('div');\n",
              "            div.style.border = '2px solid black';\n",
              "            div.style.padding = '3px';\n",
              "            div.style.width = '100%';\n",
              "            div.style.maxWidth = '600px';\n",
              "            document.body.appendChild(div);\n",
              "\n",
              "            video = document.createElement('video');\n",
              "            video.style.display = 'block';\n",
              "            video.width = div.clientWidth - 6;\n",
              "            video.setAttribute('playsinline', '');\n",
              "            video.setAttribute('autoplay', '');\n",
              "            video.setAttribute('muted', '');\n",
              "            video.style.width = div.clientWidth - 6 + 'px';\n",
              "\n",
              "            imgElement = document.createElement('img');\n",
              "            imgElement.style.position = 'absolute';\n",
              "            imgElement.style.zIndex = 1;\n",
              "\n",
              "            const modelOut = document.createElement('div');\n",
              "            modelOut.innerHTML = \"<span>Status:</span>\";\n",
              "            labelElement = document.createElement('span');\n",
              "            labelElement.innerText = 'No data';\n",
              "            modelOut.appendChild(labelElement);\n",
              "\n",
              "            div.appendChild(video);\n",
              "            div.appendChild(imgElement);\n",
              "            div.appendChild(modelOut);\n",
              "\n",
              "            stream = await navigator.mediaDevices.getUserMedia({\n",
              "                video: {\n",
              "                    facingMode: \"environment\",\n",
              "                    frameRate: { ideal: 30 },\n",
              "                }\n",
              "            });\n",
              "            video.srcObject = stream;\n",
              "            await video.play();\n",
              "\n",
              "            captureCanvas = document.createElement('canvas');\n",
              "            captureCanvas.width = video.videoWidth || 640;\n",
              "            captureCanvas.height = video.videoHeight || 480;\n",
              "\n",
              "            return stream;\n",
              "        }\n",
              "\n",
              "        async function stream_frame(label, imgData) {\n",
              "            if (shutdown) {\n",
              "                removeDom();\n",
              "                shutdown = false;\n",
              "                return '';\n",
              "            }\n",
              "\n",
              "            stream = await createDom();\n",
              "\n",
              "            if (label != \"\") {\n",
              "                labelElement.innerHTML = label;\n",
              "            }\n",
              "\n",
              "            if (imgData != \"\") {\n",
              "                var videoRect = video.getBoundingClientRect();\n",
              "                imgElement.style.top = videoRect.top + \"px\";\n",
              "                imgElement.style.left = videoRect.left + \"px\";\n",
              "                imgElement.style.width = videoRect.width + \"px\";\n",
              "                imgElement.style.height = videoRect.height + \"px\";\n",
              "                imgElement.src = imgData;\n",
              "            }\n",
              "\n",
              "            return new Promise(function(resolve) {\n",
              "                captureCanvas.getContext('2d').drawImage(video, 0, 0, captureCanvas.width, captureCanvas.height);\n",
              "                resolve(captureCanvas.toDataURL('image/jpeg', 0.8));\n",
              "            });\n",
              "        }\n",
              "        "
            ]
          },
          "metadata": {}
        },
        {
          "output_type": "stream",
          "name": "stdout",
          "text": [
            "Collected 50 samples for click gesture\n"
          ]
        }
      ],
      "source": [
        "\n",
        "print(\"Preparing to collect 'click' gesture...\")\n",
        "print(\"Make a clicking motion with your index finger\")\n",
        "print(\"Press Enter when ready to start...\")\n",
        "input()\n",
        "\n",
        "dataset['click'] = collect_gesture_data('click', num_samples=50)\n",
        "print(f\"Collected {len(dataset['click'])} samples for click gesture\")\n",
        "\n",
        "# Force cleanup\n",
        "eval_js('shutdown = true')\n",
        "time.sleep(2)\n",
        "clear_output(wait=True)"
      ]
    },
    {
      "cell_type": "markdown",
      "metadata": {
        "id": "EkGujnaNj3A_"
      },
      "source": [
        "##5.3 Collect Scroll Gesture"
      ]
    },
    {
      "cell_type": "code",
      "execution_count": null,
      "metadata": {
        "id": "-9HrznAGkKnb",
        "colab": {
          "base_uri": "https://localhost:8080/",
          "height": 637
        },
        "outputId": "3ab90741-75fe-404a-fcee-339b34a71273"
      },
      "outputs": [
        {
          "output_type": "stream",
          "name": "stdout",
          "text": [
            "Preparing to collect 'scroll' gesture...\n",
            "Make a scrolling motion with your hand\n",
            "Press Enter when ready to start...\n",
            "\n",
            "Collecting data for 'scroll' gesture...\n",
            "Position your hand and perform the gesture continuously.\n",
            "Data collection will start in 3 seconds...\n"
          ]
        },
        {
          "output_type": "display_data",
          "data": {
            "text/plain": [
              "<IPython.core.display.Javascript object>"
            ],
            "application/javascript": [
              "\n",
              "        var video;\n",
              "        var div = null;\n",
              "        var stream;\n",
              "        var captureCanvas;\n",
              "        var imgElement;\n",
              "        var labelElement;\n",
              "\n",
              "        var pendingResolve = null;\n",
              "        var shutdown = false;\n",
              "\n",
              "        function removeDom() {\n",
              "            stream.getVideoTracks()[0].stop();\n",
              "            video.remove();\n",
              "            div.remove();\n",
              "            video = null;\n",
              "            div = null;\n",
              "            stream = null;\n",
              "            imgElement = null;\n",
              "            captureCanvas = null;\n",
              "            labelElement = null;\n",
              "        }\n",
              "\n",
              "        async function createDom() {\n",
              "            if (div !== null) {\n",
              "                return stream;\n",
              "            }\n",
              "\n",
              "            div = document.createElement('div');\n",
              "            div.style.border = '2px solid black';\n",
              "            div.style.padding = '3px';\n",
              "            div.style.width = '100%';\n",
              "            div.style.maxWidth = '600px';\n",
              "            document.body.appendChild(div);\n",
              "\n",
              "            video = document.createElement('video');\n",
              "            video.style.display = 'block';\n",
              "            video.width = div.clientWidth - 6;\n",
              "            video.setAttribute('playsinline', '');\n",
              "            video.setAttribute('autoplay', '');\n",
              "            video.setAttribute('muted', '');\n",
              "            video.style.width = div.clientWidth - 6 + 'px';\n",
              "\n",
              "            imgElement = document.createElement('img');\n",
              "            imgElement.style.position = 'absolute';\n",
              "            imgElement.style.zIndex = 1;\n",
              "\n",
              "            const modelOut = document.createElement('div');\n",
              "            modelOut.innerHTML = \"<span>Status:</span>\";\n",
              "            labelElement = document.createElement('span');\n",
              "            labelElement.innerText = 'No data';\n",
              "            modelOut.appendChild(labelElement);\n",
              "\n",
              "            div.appendChild(video);\n",
              "            div.appendChild(imgElement);\n",
              "            div.appendChild(modelOut);\n",
              "\n",
              "            stream = await navigator.mediaDevices.getUserMedia({\n",
              "                video: {\n",
              "                    facingMode: \"environment\",\n",
              "                    frameRate: { ideal: 30 },\n",
              "                }\n",
              "            });\n",
              "            video.srcObject = stream;\n",
              "            await video.play();\n",
              "\n",
              "            captureCanvas = document.createElement('canvas');\n",
              "            captureCanvas.width = video.videoWidth || 640;\n",
              "            captureCanvas.height = video.videoHeight || 480;\n",
              "\n",
              "            return stream;\n",
              "        }\n",
              "\n",
              "        async function stream_frame(label, imgData) {\n",
              "            if (shutdown) {\n",
              "                removeDom();\n",
              "                shutdown = false;\n",
              "                return '';\n",
              "            }\n",
              "\n",
              "            stream = await createDom();\n",
              "\n",
              "            if (label != \"\") {\n",
              "                labelElement.innerHTML = label;\n",
              "            }\n",
              "\n",
              "            if (imgData != \"\") {\n",
              "                var videoRect = video.getBoundingClientRect();\n",
              "                imgElement.style.top = videoRect.top + \"px\";\n",
              "                imgElement.style.left = videoRect.left + \"px\";\n",
              "                imgElement.style.width = videoRect.width + \"px\";\n",
              "                imgElement.style.height = videoRect.height + \"px\";\n",
              "                imgElement.src = imgData;\n",
              "            }\n",
              "\n",
              "            return new Promise(function(resolve) {\n",
              "                captureCanvas.getContext('2d').drawImage(video, 0, 0, captureCanvas.width, captureCanvas.height);\n",
              "                resolve(captureCanvas.toDataURL('image/jpeg', 0.8));\n",
              "            });\n",
              "        }\n",
              "        "
            ]
          },
          "metadata": {}
        },
        {
          "output_type": "stream",
          "name": "stdout",
          "text": [
            "Collected 50 samples for scroll gesture\n"
          ]
        }
      ],
      "source": [
        "print(\"Preparing to collect 'scroll' gesture...\")\n",
        "print(\"Make a scrolling motion with your hand\")\n",
        "print(\"Press Enter when ready to start...\")\n",
        "input()\n",
        "\n",
        "dataset['scroll'] = collect_gesture_data('scroll', num_samples=50)\n",
        "print(f\"Collected {len(dataset['scroll'])} samples for scroll gesture\")\n",
        "\n",
        "# Force cleanup\n",
        "eval_js('shutdown = true')\n",
        "time.sleep(2)\n",
        "clear_output(wait=True)"
      ]
    },
    {
      "cell_type": "markdown",
      "metadata": {
        "id": "_p8THpcphQCs"
      },
      "source": [
        "##5.4 Sava datstet and show Summary"
      ]
    },
    {
      "cell_type": "code",
      "execution_count": null,
      "metadata": {
        "id": "yiccw8tGkSjO",
        "colab": {
          "base_uri": "https://localhost:8080/"
        },
        "outputId": "b099aad5-e9d7-4a7e-fb33-39ed7639c271"
      },
      "outputs": [
        {
          "output_type": "stream",
          "name": "stdout",
          "text": [
            "Enter your name or identifier: connor\n",
            "Data Collection Summary:\n",
            "move: 50 samples\n",
            "click: 50 samples\n",
            "scroll: 50 samples\n",
            "\n",
            "Saving dataset for connor...\n",
            "Dataset saved as gesture_dataset_connor.pkl\n"
          ]
        }
      ],
      "source": [
        "person_name = input(\"Enter your name or identifier: \")\n",
        "filename = f'gesture_dataset_{person_name}.pkl'  # Create unique filename\n",
        "\n",
        "print(\"Data Collection Summary:\")\n",
        "gestures = ['move', 'click', 'scroll']\n",
        "for gesture in gestures:\n",
        "    print(f\"{gesture}: {len(dataset[gesture])} samples\")\n",
        "\n",
        "# Save the collected data\n",
        "print(f\"\\nSaving dataset for {person_name}...\")\n",
        "with open(filename, 'wb') as f:\n",
        "    pickle.dump(dataset, f)\n",
        "print(f\"Dataset saved as {filename}\")"
      ]
    },
    {
      "cell_type": "markdown",
      "metadata": {
        "id": "RM2AYI1Cn_e1"
      },
      "source": [
        "##5.5 Combine datasets\n"
      ]
    },
    {
      "cell_type": "code",
      "execution_count": null,
      "metadata": {
        "colab": {
          "base_uri": "https://localhost:8080/"
        },
        "id": "gwZ99q45oCaT",
        "outputId": "1e78535c-8492-43c5-84ab-f10d5f1c3d00"
      },
      "outputs": [
        {
          "output_type": "stream",
          "name": "stdout",
          "text": [
            "Found 1 dataset files:\n",
            "- gesture_dataset_connor.pkl\n",
            "\n",
            "Combined Dataset Summary:\n",
            "move: 50 samples\n",
            "click: 50 samples\n",
            "scroll: 50 samples\n",
            "\n",
            "Combined dataset saved as 'gesture_dataset_combined.pkl'\n"
          ]
        }
      ],
      "source": [
        "\n",
        "import glob\n",
        "import pickle\n",
        "import numpy as np\n",
        "\n",
        "def combine_datasets():\n",
        "    dataset_files = glob.glob('gesture_dataset_*.pkl')\n",
        "\n",
        "    if not dataset_files:\n",
        "        print(\"No dataset files found!\")\n",
        "        return None\n",
        "\n",
        "    print(f\"Found {len(dataset_files)} dataset files:\")\n",
        "    for file in dataset_files:\n",
        "        print(f\"- {file}\")\n",
        "\n",
        "    combined_dataset = {\n",
        "        'move': [],\n",
        "        'click': [],\n",
        "        'scroll': []\n",
        "    }\n",
        "\n",
        "    for file in dataset_files:\n",
        "        with open(file, 'rb') as f:\n",
        "            person_data = pickle.load(f)\n",
        "            for gesture in ['move', 'click', 'scroll']:\n",
        "                combined_dataset[gesture].extend(person_data[gesture])\n",
        "\n",
        "    for gesture in combined_dataset:\n",
        "        combined_dataset[gesture] = np.array(combined_dataset[gesture])\n",
        "\n",
        "    print(\"\\nCombined Dataset Summary:\")\n",
        "    for gesture in combined_dataset:\n",
        "        print(f\"{gesture}: {len(combined_dataset[gesture])} samples\")\n",
        "\n",
        "    return combined_dataset\n",
        "\n",
        "dataset = combine_datasets()\n",
        "\n",
        "with open('gesture_dataset_combined.pkl', 'wb') as f:\n",
        "    pickle.dump(dataset, f)\n",
        "print(\"\\nCombined dataset saved as 'gesture_dataset_combined.pkl'\")"
      ]
    },
    {
      "cell_type": "markdown",
      "metadata": {
        "id": "pnozPPkghuak"
      },
      "source": [
        "#6. Data Preperation and Analysis\n",
        "\n",
        "### Processes the collected data by:\n",
        "\n",
        "\n",
        "Converting raw landmarks into feature vectors\n",
        "Applying StandardScaler for normalization\n",
        "Splitting data into training/testing sets\n",
        "Analyzing class distribution"
      ]
    },
    {
      "cell_type": "code",
      "execution_count": null,
      "metadata": {
        "colab": {
          "base_uri": "https://localhost:8080/"
        },
        "id": "UXNfjwJDh1RO",
        "outputId": "c4184521-b138-4a8d-9c5f-612ad85cc518"
      },
      "outputs": [
        {
          "output_type": "stream",
          "name": "stdout",
          "text": [
            "Dataset Properties:\n",
            "Total samples: 150\n",
            "Features per sample: 63\n",
            "\n",
            "Class distribution:\n",
            "move: 50 samples (33.3%)\n",
            "click: 50 samples (33.3%)\n",
            "scroll: 50 samples (33.3%)\n"
          ]
        }
      ],
      "source": [
        "X = np.vstack([dataset[g] for g in gestures])\n",
        "y = np.concatenate([np.full(len(dataset[g]), i) for i, g in enumerate(gestures)])\n",
        "\n",
        "print(\"Dataset Properties:\")\n",
        "print(f\"Total samples: {len(X)}\")\n",
        "print(f\"Features per sample: {X.shape[1]}\")\n",
        "print(\"\\nClass distribution:\")\n",
        "for i, gesture in enumerate(gestures):\n",
        "    count = np.sum(y == i)\n",
        "    print(f\"{gesture}: {count} samples ({count/len(y)*100:.1f}%)\")\n",
        "\n",
        "scaler = StandardScaler()\n",
        "X_scaled = scaler.fit_transform(X)\n",
        "\n",
        "X_train, X_test, y_train, y_test = train_test_split(\n",
        "    X_scaled, y, test_size=0.2, random_state=42, stratify=y\n",
        ")"
      ]
    },
    {
      "cell_type": "markdown",
      "metadata": {
        "id": "akCcNas6h2sj"
      },
      "source": [
        "#7. Model Definition and Training\n",
        "\n",
        "### Neural network architecture designed for gesture classification:\n",
        "\n",
        "\n",
        "Dense layers with dropout for overfitting prevention\n",
        "Adam optimizer and categorical crossentropy loss\n",
        "Early stopping to prevent overfitting\n",
        "Model training with validation"
      ]
    },
    {
      "cell_type": "code",
      "execution_count": null,
      "metadata": {
        "colab": {
          "base_uri": "https://localhost:8080/"
        },
        "id": "GjcGErOVh7PB",
        "outputId": "806372e8-e909-4673-de2d-68b4e7778c65"
      },
      "outputs": [
        {
          "output_type": "stream",
          "name": "stdout",
          "text": [
            "Epoch 1/50\n"
          ]
        },
        {
          "output_type": "stream",
          "name": "stderr",
          "text": [
            "/usr/local/lib/python3.10/dist-packages/keras/src/layers/core/dense.py:87: UserWarning: Do not pass an `input_shape`/`input_dim` argument to a layer. When using Sequential models, prefer using an `Input(shape)` object as the first layer in the model instead.\n",
            "  super().__init__(activity_regularizer=activity_regularizer, **kwargs)\n"
          ]
        },
        {
          "output_type": "stream",
          "name": "stdout",
          "text": [
            "\u001b[1m3/3\u001b[0m \u001b[32m━━━━━━━━━━━━━━━━━━━━\u001b[0m\u001b[37m\u001b[0m \u001b[1m4s\u001b[0m 109ms/step - accuracy: 0.4167 - loss: 1.0905 - val_accuracy: 0.8333 - val_loss: 0.8896\n",
            "Epoch 2/50\n",
            "\u001b[1m3/3\u001b[0m \u001b[32m━━━━━━━━━━━━━━━━━━━━\u001b[0m\u001b[37m\u001b[0m \u001b[1m0s\u001b[0m 18ms/step - accuracy: 0.5716 - loss: 0.9224 - val_accuracy: 0.9583 - val_loss: 0.7402\n",
            "Epoch 3/50\n",
            "\u001b[1m3/3\u001b[0m \u001b[32m━━━━━━━━━━━━━━━━━━━━\u001b[0m\u001b[37m\u001b[0m \u001b[1m0s\u001b[0m 18ms/step - accuracy: 0.7826 - loss: 0.7986 - val_accuracy: 1.0000 - val_loss: 0.6117\n",
            "Epoch 4/50\n",
            "\u001b[1m3/3\u001b[0m \u001b[32m━━━━━━━━━━━━━━━━━━━━\u001b[0m\u001b[37m\u001b[0m \u001b[1m0s\u001b[0m 19ms/step - accuracy: 0.8424 - loss: 0.6950 - val_accuracy: 1.0000 - val_loss: 0.5032\n",
            "Epoch 5/50\n",
            "\u001b[1m3/3\u001b[0m \u001b[32m━━━━━━━━━━━━━━━━━━━━\u001b[0m\u001b[37m\u001b[0m \u001b[1m0s\u001b[0m 19ms/step - accuracy: 0.9297 - loss: 0.5208 - val_accuracy: 1.0000 - val_loss: 0.3998\n",
            "Epoch 6/50\n",
            "\u001b[1m3/3\u001b[0m \u001b[32m━━━━━━━━━━━━━━━━━━━━\u001b[0m\u001b[37m\u001b[0m \u001b[1m0s\u001b[0m 32ms/step - accuracy: 0.9349 - loss: 0.4417 - val_accuracy: 1.0000 - val_loss: 0.3076\n",
            "Epoch 7/50\n",
            "\u001b[1m3/3\u001b[0m \u001b[32m━━━━━━━━━━━━━━━━━━━━\u001b[0m\u001b[37m\u001b[0m \u001b[1m0s\u001b[0m 20ms/step - accuracy: 0.9375 - loss: 0.3732 - val_accuracy: 1.0000 - val_loss: 0.2293\n",
            "Epoch 8/50\n",
            "\u001b[1m3/3\u001b[0m \u001b[32m━━━━━━━━━━━━━━━━━━━━\u001b[0m\u001b[37m\u001b[0m \u001b[1m0s\u001b[0m 25ms/step - accuracy: 0.9779 - loss: 0.3020 - val_accuracy: 1.0000 - val_loss: 0.1641\n",
            "Epoch 9/50\n",
            "\u001b[1m3/3\u001b[0m \u001b[32m━━━━━━━━━━━━━━━━━━━━\u001b[0m\u001b[37m\u001b[0m \u001b[1m0s\u001b[0m 18ms/step - accuracy: 0.9648 - loss: 0.2782 - val_accuracy: 1.0000 - val_loss: 0.1154\n",
            "Epoch 10/50\n",
            "\u001b[1m3/3\u001b[0m \u001b[32m━━━━━━━━━━━━━━━━━━━━\u001b[0m\u001b[37m\u001b[0m \u001b[1m0s\u001b[0m 20ms/step - accuracy: 0.9570 - loss: 0.2000 - val_accuracy: 1.0000 - val_loss: 0.0799\n",
            "Epoch 11/50\n",
            "\u001b[1m3/3\u001b[0m \u001b[32m━━━━━━━━━━━━━━━━━━━━\u001b[0m\u001b[37m\u001b[0m \u001b[1m0s\u001b[0m 17ms/step - accuracy: 0.9948 - loss: 0.1596 - val_accuracy: 1.0000 - val_loss: 0.0552\n",
            "Epoch 12/50\n",
            "\u001b[1m3/3\u001b[0m \u001b[32m━━━━━━━━━━━━━━━━━━━━\u001b[0m\u001b[37m\u001b[0m \u001b[1m0s\u001b[0m 17ms/step - accuracy: 0.9779 - loss: 0.1299 - val_accuracy: 1.0000 - val_loss: 0.0383\n",
            "Epoch 13/50\n",
            "\u001b[1m3/3\u001b[0m \u001b[32m━━━━━━━━━━━━━━━━━━━━\u001b[0m\u001b[37m\u001b[0m \u001b[1m0s\u001b[0m 19ms/step - accuracy: 1.0000 - loss: 0.0866 - val_accuracy: 1.0000 - val_loss: 0.0267\n",
            "Epoch 14/50\n",
            "\u001b[1m3/3\u001b[0m \u001b[32m━━━━━━━━━━━━━━━━━━━━\u001b[0m\u001b[37m\u001b[0m \u001b[1m0s\u001b[0m 19ms/step - accuracy: 1.0000 - loss: 0.0805 - val_accuracy: 1.0000 - val_loss: 0.0189\n",
            "Epoch 15/50\n",
            "\u001b[1m3/3\u001b[0m \u001b[32m━━━━━━━━━━━━━━━━━━━━\u001b[0m\u001b[37m\u001b[0m \u001b[1m0s\u001b[0m 18ms/step - accuracy: 0.9909 - loss: 0.0534 - val_accuracy: 1.0000 - val_loss: 0.0139\n",
            "Epoch 16/50\n",
            "\u001b[1m3/3\u001b[0m \u001b[32m━━━━━━━━━━━━━━━━━━━━\u001b[0m\u001b[37m\u001b[0m \u001b[1m0s\u001b[0m 19ms/step - accuracy: 0.9857 - loss: 0.0664 - val_accuracy: 1.0000 - val_loss: 0.0103\n",
            "Epoch 17/50\n",
            "\u001b[1m3/3\u001b[0m \u001b[32m━━━━━━━━━━━━━━━━━━━━\u001b[0m\u001b[37m\u001b[0m \u001b[1m0s\u001b[0m 18ms/step - accuracy: 1.0000 - loss: 0.0267 - val_accuracy: 1.0000 - val_loss: 0.0080\n",
            "Epoch 18/50\n",
            "\u001b[1m3/3\u001b[0m \u001b[32m━━━━━━━━━━━━━━━━━━━━\u001b[0m\u001b[37m\u001b[0m \u001b[1m0s\u001b[0m 19ms/step - accuracy: 1.0000 - loss: 0.0282 - val_accuracy: 1.0000 - val_loss: 0.0062\n",
            "Epoch 19/50\n",
            "\u001b[1m3/3\u001b[0m \u001b[32m━━━━━━━━━━━━━━━━━━━━\u001b[0m\u001b[37m\u001b[0m \u001b[1m0s\u001b[0m 19ms/step - accuracy: 0.9818 - loss: 0.0516 - val_accuracy: 1.0000 - val_loss: 0.0050\n",
            "Epoch 20/50\n",
            "\u001b[1m3/3\u001b[0m \u001b[32m━━━━━━━━━━━━━━━━━━━━\u001b[0m\u001b[37m\u001b[0m \u001b[1m0s\u001b[0m 33ms/step - accuracy: 0.9831 - loss: 0.0569 - val_accuracy: 1.0000 - val_loss: 0.0041\n",
            "Epoch 21/50\n",
            "\u001b[1m3/3\u001b[0m \u001b[32m━━━━━━━━━━━━━━━━━━━━\u001b[0m\u001b[37m\u001b[0m \u001b[1m0s\u001b[0m 26ms/step - accuracy: 1.0000 - loss: 0.0129 - val_accuracy: 1.0000 - val_loss: 0.0034\n",
            "Epoch 22/50\n",
            "\u001b[1m3/3\u001b[0m \u001b[32m━━━━━━━━━━━━━━━━━━━━\u001b[0m\u001b[37m\u001b[0m \u001b[1m0s\u001b[0m 18ms/step - accuracy: 1.0000 - loss: 0.0169 - val_accuracy: 1.0000 - val_loss: 0.0029\n",
            "Epoch 23/50\n",
            "\u001b[1m3/3\u001b[0m \u001b[32m━━━━━━━━━━━━━━━━━━━━\u001b[0m\u001b[37m\u001b[0m \u001b[1m0s\u001b[0m 18ms/step - accuracy: 1.0000 - loss: 0.0105 - val_accuracy: 1.0000 - val_loss: 0.0025\n",
            "Epoch 24/50\n",
            "\u001b[1m3/3\u001b[0m \u001b[32m━━━━━━━━━━━━━━━━━━━━\u001b[0m\u001b[37m\u001b[0m \u001b[1m0s\u001b[0m 18ms/step - accuracy: 1.0000 - loss: 0.0134 - val_accuracy: 1.0000 - val_loss: 0.0022\n",
            "Epoch 25/50\n",
            "\u001b[1m3/3\u001b[0m \u001b[32m━━━━━━━━━━━━━━━━━━━━\u001b[0m\u001b[37m\u001b[0m \u001b[1m0s\u001b[0m 18ms/step - accuracy: 1.0000 - loss: 0.0133 - val_accuracy: 1.0000 - val_loss: 0.0019\n",
            "Epoch 26/50\n",
            "\u001b[1m3/3\u001b[0m \u001b[32m━━━━━━━━━━━━━━━━━━━━\u001b[0m\u001b[37m\u001b[0m \u001b[1m0s\u001b[0m 21ms/step - accuracy: 1.0000 - loss: 0.0113 - val_accuracy: 1.0000 - val_loss: 0.0017\n",
            "Epoch 27/50\n",
            "\u001b[1m3/3\u001b[0m \u001b[32m━━━━━━━━━━━━━━━━━━━━\u001b[0m\u001b[37m\u001b[0m \u001b[1m0s\u001b[0m 19ms/step - accuracy: 1.0000 - loss: 0.0108 - val_accuracy: 1.0000 - val_loss: 0.0015\n",
            "Epoch 28/50\n",
            "\u001b[1m3/3\u001b[0m \u001b[32m━━━━━━━━━━━━━━━━━━━━\u001b[0m\u001b[37m\u001b[0m \u001b[1m0s\u001b[0m 19ms/step - accuracy: 1.0000 - loss: 0.0121 - val_accuracy: 1.0000 - val_loss: 0.0013\n",
            "Epoch 29/50\n",
            "\u001b[1m3/3\u001b[0m \u001b[32m━━━━━━━━━━━━━━━━━━━━\u001b[0m\u001b[37m\u001b[0m \u001b[1m0s\u001b[0m 19ms/step - accuracy: 1.0000 - loss: 0.0110 - val_accuracy: 1.0000 - val_loss: 0.0012\n",
            "Epoch 30/50\n",
            "\u001b[1m3/3\u001b[0m \u001b[32m━━━━━━━━━━━━━━━━━━━━\u001b[0m\u001b[37m\u001b[0m \u001b[1m0s\u001b[0m 21ms/step - accuracy: 1.0000 - loss: 0.0094 - val_accuracy: 1.0000 - val_loss: 0.0010\n",
            "Epoch 31/50\n",
            "\u001b[1m3/3\u001b[0m \u001b[32m━━━━━━━━━━━━━━━━━━━━\u001b[0m\u001b[37m\u001b[0m \u001b[1m0s\u001b[0m 33ms/step - accuracy: 1.0000 - loss: 0.0071 - val_accuracy: 1.0000 - val_loss: 9.3123e-04\n",
            "Epoch 32/50\n",
            "\u001b[1m3/3\u001b[0m \u001b[32m━━━━━━━━━━━━━━━━━━━━\u001b[0m\u001b[37m\u001b[0m \u001b[1m0s\u001b[0m 21ms/step - accuracy: 1.0000 - loss: 0.0043 - val_accuracy: 1.0000 - val_loss: 8.4479e-04\n",
            "Epoch 33/50\n",
            "\u001b[1m3/3\u001b[0m \u001b[32m━━━━━━━━━━━━━━━━━━━━\u001b[0m\u001b[37m\u001b[0m \u001b[1m0s\u001b[0m 27ms/step - accuracy: 1.0000 - loss: 0.0078 - val_accuracy: 1.0000 - val_loss: 7.7172e-04\n",
            "Epoch 34/50\n",
            "\u001b[1m3/3\u001b[0m \u001b[32m━━━━━━━━━━━━━━━━━━━━\u001b[0m\u001b[37m\u001b[0m \u001b[1m0s\u001b[0m 29ms/step - accuracy: 1.0000 - loss: 0.0059 - val_accuracy: 1.0000 - val_loss: 7.0880e-04\n",
            "Epoch 35/50\n",
            "\u001b[1m3/3\u001b[0m \u001b[32m━━━━━━━━━━━━━━━━━━━━\u001b[0m\u001b[37m\u001b[0m \u001b[1m0s\u001b[0m 23ms/step - accuracy: 1.0000 - loss: 0.0109 - val_accuracy: 1.0000 - val_loss: 6.5403e-04\n",
            "Epoch 36/50\n",
            "\u001b[1m3/3\u001b[0m \u001b[32m━━━━━━━━━━━━━━━━━━━━\u001b[0m\u001b[37m\u001b[0m \u001b[1m0s\u001b[0m 36ms/step - accuracy: 1.0000 - loss: 0.0091 - val_accuracy: 1.0000 - val_loss: 6.0151e-04\n",
            "Epoch 37/50\n",
            "\u001b[1m3/3\u001b[0m \u001b[32m━━━━━━━━━━━━━━━━━━━━\u001b[0m\u001b[37m\u001b[0m \u001b[1m0s\u001b[0m 40ms/step - accuracy: 1.0000 - loss: 0.0096 - val_accuracy: 1.0000 - val_loss: 5.5491e-04\n",
            "Epoch 38/50\n",
            "\u001b[1m3/3\u001b[0m \u001b[32m━━━━━━━━━━━━━━━━━━━━\u001b[0m\u001b[37m\u001b[0m \u001b[1m0s\u001b[0m 39ms/step - accuracy: 1.0000 - loss: 0.0070 - val_accuracy: 1.0000 - val_loss: 5.1408e-04\n",
            "Epoch 39/50\n",
            "\u001b[1m3/3\u001b[0m \u001b[32m━━━━━━━━━━━━━━━━━━━━\u001b[0m\u001b[37m\u001b[0m \u001b[1m0s\u001b[0m 27ms/step - accuracy: 1.0000 - loss: 0.0094 - val_accuracy: 1.0000 - val_loss: 4.7451e-04\n",
            "Epoch 40/50\n",
            "\u001b[1m3/3\u001b[0m \u001b[32m━━━━━━━━━━━━━━━━━━━━\u001b[0m\u001b[37m\u001b[0m \u001b[1m0s\u001b[0m 31ms/step - accuracy: 1.0000 - loss: 0.0045 - val_accuracy: 1.0000 - val_loss: 4.3681e-04\n",
            "Epoch 41/50\n",
            "\u001b[1m3/3\u001b[0m \u001b[32m━━━━━━━━━━━━━━━━━━━━\u001b[0m\u001b[37m\u001b[0m \u001b[1m0s\u001b[0m 23ms/step - accuracy: 1.0000 - loss: 0.0032 - val_accuracy: 1.0000 - val_loss: 4.0647e-04\n",
            "Epoch 42/50\n",
            "\u001b[1m3/3\u001b[0m \u001b[32m━━━━━━━━━━━━━━━━━━━━\u001b[0m\u001b[37m\u001b[0m \u001b[1m0s\u001b[0m 25ms/step - accuracy: 1.0000 - loss: 0.0041 - val_accuracy: 1.0000 - val_loss: 3.7997e-04\n",
            "Epoch 43/50\n",
            "\u001b[1m3/3\u001b[0m \u001b[32m━━━━━━━━━━━━━━━━━━━━\u001b[0m\u001b[37m\u001b[0m \u001b[1m0s\u001b[0m 24ms/step - accuracy: 1.0000 - loss: 0.0029 - val_accuracy: 1.0000 - val_loss: 3.5694e-04\n",
            "Epoch 44/50\n",
            "\u001b[1m3/3\u001b[0m \u001b[32m━━━━━━━━━━━━━━━━━━━━\u001b[0m\u001b[37m\u001b[0m \u001b[1m0s\u001b[0m 37ms/step - accuracy: 1.0000 - loss: 0.0038 - val_accuracy: 1.0000 - val_loss: 3.3574e-04\n",
            "Epoch 45/50\n",
            "\u001b[1m3/3\u001b[0m \u001b[32m━━━━━━━━━━━━━━━━━━━━\u001b[0m\u001b[37m\u001b[0m \u001b[1m0s\u001b[0m 37ms/step - accuracy: 1.0000 - loss: 0.0054 - val_accuracy: 1.0000 - val_loss: 3.1647e-04\n",
            "Epoch 46/50\n",
            "\u001b[1m3/3\u001b[0m \u001b[32m━━━━━━━━━━━━━━━━━━━━\u001b[0m\u001b[37m\u001b[0m \u001b[1m0s\u001b[0m 32ms/step - accuracy: 1.0000 - loss: 0.0052 - val_accuracy: 1.0000 - val_loss: 2.9949e-04\n",
            "Epoch 47/50\n",
            "\u001b[1m3/3\u001b[0m \u001b[32m━━━━━━━━━━━━━━━━━━━━\u001b[0m\u001b[37m\u001b[0m \u001b[1m0s\u001b[0m 26ms/step - accuracy: 1.0000 - loss: 0.0014 - val_accuracy: 1.0000 - val_loss: 2.8481e-04\n",
            "Epoch 48/50\n",
            "\u001b[1m3/3\u001b[0m \u001b[32m━━━━━━━━━━━━━━━━━━━━\u001b[0m\u001b[37m\u001b[0m \u001b[1m0s\u001b[0m 37ms/step - accuracy: 1.0000 - loss: 0.0044 - val_accuracy: 1.0000 - val_loss: 2.7095e-04\n",
            "Epoch 49/50\n",
            "\u001b[1m3/3\u001b[0m \u001b[32m━━━━━━━━━━━━━━━━━━━━\u001b[0m\u001b[37m\u001b[0m \u001b[1m0s\u001b[0m 26ms/step - accuracy: 1.0000 - loss: 0.0017 - val_accuracy: 1.0000 - val_loss: 2.5912e-04\n",
            "Epoch 50/50\n",
            "\u001b[1m3/3\u001b[0m \u001b[32m━━━━━━━━━━━━━━━━━━━━\u001b[0m\u001b[37m\u001b[0m \u001b[1m0s\u001b[0m 36ms/step - accuracy: 1.0000 - loss: 0.0013 - val_accuracy: 1.0000 - val_loss: 2.4917e-04\n"
          ]
        },
        {
          "output_type": "stream",
          "name": "stderr",
          "text": [
            "WARNING:absl:You are saving your model as an HDF5 file via `model.save()` or `keras.saving.save_model(model)`. This file format is considered legacy. We recommend using instead the native Keras format, e.g. `model.save('my_model.keras')` or `keras.saving.save_model(model, 'my_model.keras')`. \n"
          ]
        }
      ],
      "source": [
        "def create_model(input_shape):\n",
        "    model = Sequential([\n",
        "        Dense(128, activation='relu', input_shape=(input_shape,)),\n",
        "        Dropout(0.3),\n",
        "        Dense(64, activation='relu'),\n",
        "        Dropout(0.2),\n",
        "        Dense(32, activation='relu'),\n",
        "        Dense(len(gestures), activation='softmax')\n",
        "    ])\n",
        "\n",
        "    model.compile(\n",
        "        optimizer=Adam(learning_rate=0.001),\n",
        "        loss='sparse_categorical_crossentropy',\n",
        "        metrics=['accuracy']\n",
        "    )\n",
        "    return model\n",
        "\n",
        "model = create_model(X_train.shape[1])\n",
        "history = model.fit(\n",
        "    X_train, y_train,\n",
        "    validation_split=0.2,\n",
        "    epochs=50,\n",
        "    batch_size=32,\n",
        "    callbacks=[\n",
        "        tf.keras.callbacks.EarlyStopping(\n",
        "            monitor='val_loss',\n",
        "            patience=5,\n",
        "            restore_best_weights=True\n",
        "        )\n",
        "    ]\n",
        ")\n",
        "\n",
        "model.save('gesture_model.h5')"
      ]
    },
    {
      "cell_type": "markdown",
      "metadata": {
        "id": "Jd37dhpJh999"
      },
      "source": [
        "#8. Evaluation and Visualization\n",
        "\n",
        "### Analysis of model performance through:\n",
        "\n",
        "\n",
        "Loss and accuracy curves\n",
        "Confusion matrix\n",
        "Classification report\n",
        "Visualization of training progress"
      ]
    },
    {
      "cell_type": "code",
      "execution_count": null,
      "metadata": {
        "colab": {
          "base_uri": "https://localhost:8080/",
          "height": 1000
        },
        "id": "QjGMkHQyh85b",
        "outputId": "ff2ce2cf-5bc2-4bea-dd0c-2ab63b738e08"
      },
      "outputs": [
        {
          "output_type": "display_data",
          "data": {
            "text/plain": [
              "<Figure size 1200x400 with 2 Axes>"
            ],
            "image/png": "[encoded data removed]"
          },
          "metadata": {}
        },
        {
          "output_type": "stream",
          "name": "stdout",
          "text": [
            "\u001b[1m1/1\u001b[0m \u001b[32m━━━━━━━━━━━━━━━━━━━━\u001b[0m\u001b[37m\u001b[0m \u001b[1m0s\u001b[0m 117ms/step\n",
            "\n",
            "Classification Report:\n",
            "              precision    recall  f1-score   support\n",
            "\n",
            "        move       1.00      1.00      1.00        10\n",
            "       click       1.00      1.00      1.00        10\n",
            "      scroll       1.00      1.00      1.00        10\n",
            "\n",
            "    accuracy                           1.00        30\n",
            "   macro avg       1.00      1.00      1.00        30\n",
            "weighted avg       1.00      1.00      1.00        30\n",
            "\n"
          ]
        },
        {
          "output_type": "display_data",
          "data": {
            "text/plain": [
              "<Figure size 1000x800 with 2 Axes>"
            ],
            "image/png": "[encoded data removed]"
          },
          "metadata": {}
        }
      ],
      "source": [
        "plt.figure(figsize=(12, 4))\n",
        "\n",
        "plt.subplot(1, 2, 1)\n",
        "plt.plot(history.history['loss'], label='Training Loss')\n",
        "plt.plot(history.history['val_loss'], label='Validation Loss')\n",
        "plt.title('Model Loss')\n",
        "plt.xlabel('Epoch')\n",
        "plt.ylabel('Loss')\n",
        "plt.legend()\n",
        "\n",
        "plt.subplot(1, 2, 2)\n",
        "plt.plot(history.history['accuracy'], label='Training Accuracy')\n",
        "plt.plot(history.history['val_accuracy'], label='Validation Accuracy')\n",
        "plt.title('Model Accuracy')\n",
        "plt.xlabel('Epoch')\n",
        "plt.ylabel('Accuracy')\n",
        "plt.legend()\n",
        "\n",
        "plt.tight_layout()\n",
        "plt.show()\n",
        "\n",
        "y_pred = model.predict(X_test)\n",
        "y_pred_classes = np.argmax(y_pred, axis=1)\n",
        "\n",
        "print(\"\\nClassification Report:\")\n",
        "from sklearn.metrics import classification_report\n",
        "print(classification_report(y_test, y_pred_classes, target_names=gestures))\n",
        "\n",
        "plt.figure(figsize=(10, 8))\n",
        "cm = confusion_matrix(y_test, y_pred_classes)\n",
        "sns.heatmap(cm, annot=True, fmt='d', cmap='Blues',\n",
        "            xticklabels=gestures, yticklabels=gestures)\n",
        "plt.title('Confusion Matrix')\n",
        "plt.xlabel('Predicted')\n",
        "plt.ylabel('True')\n",
        "plt.show()"
      ]
    },
    {
      "cell_type": "markdown",
      "metadata": {
        "id": "2IvHH_CfiFRV"
      },
      "source": [
        "#9. Real time testing\n",
        "\n",
        "###Implementation of live gesture recognition:\n",
        "\n",
        "\n",
        "Real-time hand detection\n",
        "Model prediction\n",
        "Visual feedback\n",
        "Gesture classification display\n"
      ]
    },
    {
      "cell_type": "markdown",
      "source": [
        "Theres currently a error displayed, but thats because i needed to stop the video feed mid testing to submit"
      ],
      "metadata": {
        "id": "lvx7e2xihF3G"
      }
    },
    {
      "cell_type": "code",
      "execution_count": null,
      "metadata": {
        "colab": {
          "base_uri": "https://localhost:8080/",
          "height": 860
        },
        "id": "6pphj4qgiJs0",
        "outputId": "87472692-bf6e-4d9f-98b8-bd54c4ad15a6"
      },
      "outputs": [
        {
          "output_type": "stream",
          "name": "stdout",
          "text": [
            "Testing real-time gesture recognition...\n",
            "Position your hand in front of the camera and perform gestures\n",
            "Click the video feed to stop\n"
          ]
        },
        {
          "output_type": "display_data",
          "data": {
            "text/plain": [
              "<IPython.core.display.Javascript object>"
            ],
            "application/javascript": [
              "\n",
              "        var video;\n",
              "        var div = null;\n",
              "        var stream;\n",
              "        var captureCanvas;\n",
              "        var imgElement;\n",
              "        var labelElement;\n",
              "\n",
              "        var pendingResolve = null;\n",
              "        var shutdown = false;\n",
              "\n",
              "        function removeDom() {\n",
              "            stream.getVideoTracks()[0].stop();\n",
              "            video.remove();\n",
              "            div.remove();\n",
              "            video = null;\n",
              "            div = null;\n",
              "            stream = null;\n",
              "            imgElement = null;\n",
              "            captureCanvas = null;\n",
              "            labelElement = null;\n",
              "        }\n",
              "\n",
              "        async function createDom() {\n",
              "            if (div !== null) {\n",
              "                return stream;\n",
              "            }\n",
              "\n",
              "            div = document.createElement('div');\n",
              "            div.style.border = '2px solid black';\n",
              "            div.style.padding = '3px';\n",
              "            div.style.width = '100%';\n",
              "            div.style.maxWidth = '600px';\n",
              "            document.body.appendChild(div);\n",
              "\n",
              "            video = document.createElement('video');\n",
              "            video.style.display = 'block';\n",
              "            video.width = div.clientWidth - 6;\n",
              "            video.setAttribute('playsinline', '');\n",
              "            video.setAttribute('autoplay', '');\n",
              "            video.setAttribute('muted', '');\n",
              "            video.style.width = div.clientWidth - 6 + 'px';\n",
              "\n",
              "            imgElement = document.createElement('img');\n",
              "            imgElement.style.position = 'absolute';\n",
              "            imgElement.style.zIndex = 1;\n",
              "\n",
              "            const modelOut = document.createElement('div');\n",
              "            modelOut.innerHTML = \"<span>Status:</span>\";\n",
              "            labelElement = document.createElement('span');\n",
              "            labelElement.innerText = 'No data';\n",
              "            modelOut.appendChild(labelElement);\n",
              "\n",
              "            div.appendChild(video);\n",
              "            div.appendChild(imgElement);\n",
              "            div.appendChild(modelOut);\n",
              "\n",
              "            stream = await navigator.mediaDevices.getUserMedia({\n",
              "                video: {\n",
              "                    facingMode: \"environment\",\n",
              "                    frameRate: { ideal: 30 },\n",
              "                }\n",
              "            });\n",
              "            video.srcObject = stream;\n",
              "            await video.play();\n",
              "\n",
              "            captureCanvas = document.createElement('canvas');\n",
              "            captureCanvas.width = video.videoWidth || 640;\n",
              "            captureCanvas.height = video.videoHeight || 480;\n",
              "\n",
              "            return stream;\n",
              "        }\n",
              "\n",
              "        async function stream_frame(label, imgData) {\n",
              "            if (shutdown) {\n",
              "                removeDom();\n",
              "                shutdown = false;\n",
              "                return '';\n",
              "            }\n",
              "\n",
              "            stream = await createDom();\n",
              "\n",
              "            if (label != \"\") {\n",
              "                labelElement.innerHTML = label;\n",
              "            }\n",
              "\n",
              "            if (imgData != \"\") {\n",
              "                var videoRect = video.getBoundingClientRect();\n",
              "                imgElement.style.top = videoRect.top + \"px\";\n",
              "                imgElement.style.left = videoRect.left + \"px\";\n",
              "                imgElement.style.width = videoRect.width + \"px\";\n",
              "                imgElement.style.height = videoRect.height + \"px\";\n",
              "                imgElement.src = imgData;\n",
              "            }\n",
              "\n",
              "            return new Promise(function(resolve) {\n",
              "                captureCanvas.getContext('2d').drawImage(video, 0, 0, captureCanvas.width, captureCanvas.height);\n",
              "                resolve(captureCanvas.toDataURL('image/jpeg', 0.8));\n",
              "            });\n",
              "        }\n",
              "        "
            ]
          },
          "metadata": {}
        },
        {
          "output_type": "error",
          "ename": "KeyboardInterrupt",
          "evalue": "",
          "traceback": [
            "\u001b[0;31m---------------------------------------------------------------------------\u001b[0m",
            "\u001b[0;31mKeyboardInterrupt\u001b[0m                         Traceback (most recent call last)",
            "\u001b[0;32m<ipython-input-14-c257075d5fa1>\u001b[0m in \u001b[0;36m<cell line: 58>\u001b[0;34m()\u001b[0m\n\u001b[1;32m     56\u001b[0m \u001b[0mprint\u001b[0m\u001b[0;34m(\u001b[0m\u001b[0;34m\"Position your hand in front of the camera and perform gestures\"\u001b[0m\u001b[0;34m)\u001b[0m\u001b[0;34m\u001b[0m\u001b[0;34m\u001b[0m\u001b[0m\n\u001b[1;32m     57\u001b[0m \u001b[0mprint\u001b[0m\u001b[0;34m(\u001b[0m\u001b[0;34m\"Click the video feed to stop\"\u001b[0m\u001b[0;34m)\u001b[0m\u001b[0;34m\u001b[0m\u001b[0;34m\u001b[0m\u001b[0m\n\u001b[0;32m---> 58\u001b[0;31m \u001b[0mtest_model\u001b[0m\u001b[0;34m(\u001b[0m\u001b[0;34m)\u001b[0m\u001b[0;34m\u001b[0m\u001b[0;34m\u001b[0m\u001b[0m\n\u001b[0m",
            "\u001b[0;32m<ipython-input-14-c257075d5fa1>\u001b[0m in \u001b[0;36mtest_model\u001b[0;34m()\u001b[0m\n\u001b[1;32m     48\u001b[0m \u001b[0;34m\u001b[0m\u001b[0m\n\u001b[1;32m     49\u001b[0m             \u001b[0m_\u001b[0m\u001b[0;34m,\u001b[0m \u001b[0mjpeg\u001b[0m \u001b[0;34m=\u001b[0m \u001b[0mcv2\u001b[0m\u001b[0;34m.\u001b[0m\u001b[0mimencode\u001b[0m\u001b[0;34m(\u001b[0m\u001b[0;34m'.jpg'\u001b[0m\u001b[0;34m,\u001b[0m \u001b[0mframe\u001b[0m\u001b[0;34m)\u001b[0m\u001b[0;34m\u001b[0m\u001b[0;34m\u001b[0m\u001b[0m\n\u001b[0;32m---> 50\u001b[0;31m             \u001b[0mjs_reply\u001b[0m \u001b[0;34m=\u001b[0m \u001b[0meval_js\u001b[0m\u001b[0;34m(\u001b[0m\u001b[0;34mf'stream_frame(\"{status}\", \"data:image/jpeg;base64,{b64encode(jpeg).decode()}\")'\u001b[0m\u001b[0;34m)\u001b[0m\u001b[0;34m\u001b[0m\u001b[0;34m\u001b[0m\u001b[0m\n\u001b[0m\u001b[1;32m     51\u001b[0m \u001b[0;34m\u001b[0m\u001b[0m\n\u001b[1;32m     52\u001b[0m     \u001b[0;32mfinally\u001b[0m\u001b[0;34m:\u001b[0m\u001b[0;34m\u001b[0m\u001b[0;34m\u001b[0m\u001b[0m\n",
            "\u001b[0;32m/usr/local/lib/python3.10/dist-packages/google/colab/output/_js.py\u001b[0m in \u001b[0;36meval_js\u001b[0;34m(script, ignore_result, timeout_sec)\u001b[0m\n\u001b[1;32m     38\u001b[0m   \u001b[0;32mif\u001b[0m \u001b[0mignore_result\u001b[0m\u001b[0;34m:\u001b[0m\u001b[0;34m\u001b[0m\u001b[0;34m\u001b[0m\u001b[0m\n\u001b[1;32m     39\u001b[0m     \u001b[0;32mreturn\u001b[0m\u001b[0;34m\u001b[0m\u001b[0;34m\u001b[0m\u001b[0m\n\u001b[0;32m---> 40\u001b[0;31m   \u001b[0;32mreturn\u001b[0m \u001b[0m_message\u001b[0m\u001b[0;34m.\u001b[0m\u001b[0mread_reply_from_input\u001b[0m\u001b[0;34m(\u001b[0m\u001b[0mrequest_id\u001b[0m\u001b[0;34m,\u001b[0m \u001b[0mtimeout_sec\u001b[0m\u001b[0;34m)\u001b[0m\u001b[0;34m\u001b[0m\u001b[0;34m\u001b[0m\u001b[0m\n\u001b[0m\u001b[1;32m     41\u001b[0m \u001b[0;34m\u001b[0m\u001b[0m\n\u001b[1;32m     42\u001b[0m \u001b[0;34m\u001b[0m\u001b[0m\n",
            "\u001b[0;32m/usr/local/lib/python3.10/dist-packages/google/colab/_message.py\u001b[0m in \u001b[0;36mread_reply_from_input\u001b[0;34m(message_id, timeout_sec)\u001b[0m\n\u001b[1;32m     94\u001b[0m     \u001b[0mreply\u001b[0m \u001b[0;34m=\u001b[0m \u001b[0m_read_next_input_message\u001b[0m\u001b[0;34m(\u001b[0m\u001b[0;34m)\u001b[0m\u001b[0;34m\u001b[0m\u001b[0;34m\u001b[0m\u001b[0m\n\u001b[1;32m     95\u001b[0m     \u001b[0;32mif\u001b[0m \u001b[0mreply\u001b[0m \u001b[0;34m==\u001b[0m \u001b[0m_NOT_READY\u001b[0m \u001b[0;32mor\u001b[0m \u001b[0;32mnot\u001b[0m \u001b[0misinstance\u001b[0m\u001b[0;34m(\u001b[0m\u001b[0mreply\u001b[0m\u001b[0;34m,\u001b[0m \u001b[0mdict\u001b[0m\u001b[0;34m)\u001b[0m\u001b[0;34m:\u001b[0m\u001b[0;34m\u001b[0m\u001b[0;34m\u001b[0m\u001b[0m\n\u001b[0;32m---> 96\u001b[0;31m       \u001b[0mtime\u001b[0m\u001b[0;34m.\u001b[0m\u001b[0msleep\u001b[0m\u001b[0;34m(\u001b[0m\u001b[0;36m0.025\u001b[0m\u001b[0;34m)\u001b[0m\u001b[0;34m\u001b[0m\u001b[0;34m\u001b[0m\u001b[0m\n\u001b[0m\u001b[1;32m     97\u001b[0m       \u001b[0;32mcontinue\u001b[0m\u001b[0;34m\u001b[0m\u001b[0;34m\u001b[0m\u001b[0m\n\u001b[1;32m     98\u001b[0m     if (\n",
            "\u001b[0;31mKeyboardInterrupt\u001b[0m: "
          ]
        }
      ],
      "source": [
        "def test_model():\n",
        "    mp_hands = mp.solutions.hands\n",
        "    hands = mp_hands.Hands(\n",
        "        min_detection_confidence=0.5,\n",
        "        min_tracking_confidence=0.5,\n",
        "        max_num_hands=1\n",
        "    )\n",
        "\n",
        "    start_webcam()\n",
        "    last_prediction_time = time.time()\n",
        "    prediction_interval = 0.1  # 100ms\n",
        "\n",
        "    try:\n",
        "        while True:\n",
        "            js_reply = eval_js('stream_frame(\"\", \"\")')\n",
        "            if not js_reply:\n",
        "                break\n",
        "\n",
        "            if isinstance(js_reply, str) and js_reply.startswith('data:image'):\n",
        "                frame = js_to_image(js_reply)\n",
        "            else:\n",
        "                continue\n",
        "\n",
        "            frame_rgb = cv2.cvtColor(frame, cv2.COLOR_BGR2RGB)\n",
        "\n",
        "            current_time = time.time()\n",
        "            if current_time - last_prediction_time >= prediction_interval:\n",
        "                results = hands.process(frame_rgb)\n",
        "\n",
        "                if results.multi_hand_landmarks:\n",
        "                    landmarks = results.multi_hand_landmarks[0]\n",
        "                    mp.solutions.drawing_utils.draw_landmarks(\n",
        "                        frame, landmarks, mp_hands.HAND_CONNECTIONS)\n",
        "\n",
        "                    coords = [[lm.x, lm.y, lm.z] for lm in landmarks.landmark]\n",
        "                    features = np.array(coords).flatten().reshape(1, -1)\n",
        "\n",
        "                    features_scaled = scaler.transform(features)\n",
        "                    prediction = model.predict(features_scaled, verbose=0)\n",
        "                    gesture_idx = np.argmax(prediction)\n",
        "                    confidence = prediction[0][gesture_idx]\n",
        "\n",
        "                    status = f\"Gesture: {gestures[gesture_idx]} ({confidence:.2f})\"\n",
        "                else:\n",
        "                    status = \"No hand detected\"\n",
        "\n",
        "                last_prediction_time = current_time\n",
        "\n",
        "            _, jpeg = cv2.imencode('.jpg', frame)\n",
        "            js_reply = eval_js(f'stream_frame(\"{status}\", \"data:image/jpeg;base64,{b64encode(jpeg).decode()}\")')\n",
        "\n",
        "    finally:\n",
        "        eval_js('shutdown = true')\n",
        "\n",
        "print(\"Testing real-time gesture recognition...\")\n",
        "print(\"Position your hand in front of the camera and perform gestures\")\n",
        "print(\"Click the video feed to stop\")\n",
        "test_model()"
      ]
    },
    {
      "cell_type": "markdown",
      "source": [
        "# Hand Gesture Recognition System - Technical Summary\n",
        "\n",
        "## Project Overview\n",
        "Developed a real-time hand gesture classification system using computer vision and deep learning, achieving 90% accuracy through strategic architecture design and optimization techniques. Unfortunately because this is hosted through colab, I cant implement the actual use of controlling the mouse, you would need to do that locally, but I have showcase a model that would need no changing in doing so.\n",
        "\n",
        "## Technical Components\n",
        "\n",
        "### Data Collection & Processing\n",
        "* 21 3D landmarks → 63 features per gesture\n",
        "* 50 samples each: move, click, scroll\n",
        "* StandardScaler normalization\n",
        "* 80-20 train-test split\n",
        "\n",
        "### Neural Network Architecture\n",
        "* Layer sequence: 128 → 64 → 32 → 3 neurons\n",
        "* Dropout (0.3, 0.2) for overfitting prevention\n",
        "* Early stopping, 5-epoch patience\n",
        "* Adam optimizer (lr=0.001)\n",
        "\n",
        "### Performance Metrics\n",
        "* 90% validation accuracy\n",
        "* Precision/recall > 0.88 all classes\n",
        "* Strong confusion matrix separation\n",
        "* Healthy convergence curves\n",
        "\n",
        "### Real-time Implementation\n",
        "* 30 FPS webcam capture\n",
        "* 100ms prediction intervals\n",
        "* Streamlined JS-Python communication\n",
        "\n",
        "## Technical Challenges Addressed\n",
        "\n",
        "### 1. Overfitting Prevention\n",
        "* Dropout implementation\n",
        "* Early stopping\n",
        "* Data standardization\n",
        "\n",
        "### 2. Performance Optimization\n",
        "* Reduced detection thresholds\n",
        "* Optimized frame processing\n",
        "* Interval-based predictions\n",
        "\n",
        "### 3. User Experience Enhancement\n",
        "* Visual landmark feedback\n",
        "* Smooth gesture transitions\n",
        "* Real-time status display\n",
        "\n",
        "##Ai Usage\n",
        "\n",
        "###1. JS camera Display\n",
        "* Did not know how to display a camera in colab\n",
        "* Sequentially also helped with gesture collection with the camera\n",
        "\n",
        "###2. Misallenous things\n",
        "* Lines of code here and there that wouldn't work\n",
        "* Debugging errors\n",
        "\n",
        "## Results\n",
        "System demonstrates robust gesture recognition suitable for real-world applications, with clear separation between gesture classes and minimal confusion in predictions.\n",
        "\n"
      ],
      "metadata": {
        "id": "b0wEEQedlC29"
      }
    }
  ],
  "metadata": {
    "colab": {
      "provenance": [],
      "include_colab_link": true
    },
    "kernelspec": {
      "display_name": "Python 3",
      "name": "python3"
    },
    "language_info": {
      "name": "python"
    }
  },
  "nbformat": 4,
  "nbformat_minor": 0
}